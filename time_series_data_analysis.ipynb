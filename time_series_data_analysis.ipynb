{
 "cells": [
  {
   "cell_type": "markdown",
   "id": "27ba032f",
   "metadata": {},
   "source": [
    "#### Importing the packages"
   ]
  },
  {
   "cell_type": "code",
   "execution_count": 11,
   "id": "02da757f",
   "metadata": {},
   "outputs": [],
   "source": [
    "import numpy as np\n",
    "import pandas as pd\n",
    "import matplotlib as mtpl\n",
    "import statsmodels.api as stmd\n",
    "from statsmodels.tsa.seasonal import seasonal_decompose, STL"
   ]
  },
  {
   "cell_type": "markdown",
   "id": "f1a08c8a",
   "metadata": {},
   "source": [
    "#### Importing the data"
   ]
  },
  {
   "cell_type": "code",
   "execution_count": 12,
   "id": "bf619b88",
   "metadata": {},
   "outputs": [],
   "source": [
    "marketing = np.array([3, 4, 5, 5, 7, 9, 13, 15, 12, 10, 8, 8])\n",
    "revenue = np.array([21, 19, 22, 24, 25, 29, 30, 34, 37, 40, 35, 30])"
   ]
  },
  {
   "cell_type": "markdown",
   "id": "d657b190",
   "metadata": {},
   "source": [
    "#### Descriptive statistics"
   ]
  },
  {
   "cell_type": "markdown",
   "id": "a86ae676",
   "metadata": {},
   "source": [
    "Ordinary time-series decomposition"
   ]
  },
  {
   "cell_type": "code",
   "execution_count": null,
   "id": "7006cbe2",
   "metadata": {},
   "outputs": [],
   "source": [
    "df_add_decompose = seasonal_decompose(df, model = 'additive')\n",
    "df_multi_decompose = seasonal_decompose(df, model = 'multiplicative')"
   ]
  },
  {
   "cell_type": "markdown",
   "id": "47ffcb77",
   "metadata": {},
   "source": [
    "Seasonal-Trend Decomposition Using LOESS (STL)"
   ]
  },
  {
   "cell_type": "code",
   "execution_count": null,
   "id": "a341752b",
   "metadata": {},
   "outputs": [],
   "source": [
    "df_stl = STL(df,\n",
    "    seasonal = 9,\n",
    "    robust = True).fit()\n",
    "df_stl.plot(); plt.show()"
   ]
  },
  {
   "cell_type": "markdown",
   "id": "148e05da",
   "metadata": {},
   "source": [
    "Function for displaying the results of stationarity tests"
   ]
  },
  {
   "cell_type": "code",
   "execution_count": null,
   "id": "636b618d",
   "metadata": {},
   "outputs": [],
   "source": [
    "adf_test = stmd.tsa.stattools.adfuller(df, autolag = \"AIC\")"
   ]
  },
  {
   "cell_type": "markdown",
   "id": "ad306c73",
   "metadata": {},
   "source": [
    "#### Cross-correlation"
   ]
  },
  {
   "cell_type": "code",
   "execution_count": 13,
   "id": "a277bfdc",
   "metadata": {},
   "outputs": [
    {
     "data": {
      "text/plain": [
       "array([ 0.77109358,  0.46238654,  0.19352232, -0.06066296, -0.28159595,\n",
       "       -0.44531104, -0.49159463, -0.35783655, -0.15697476, -0.03430078,\n",
       "        0.01587722,  0.0070399 ])"
      ]
     },
     "execution_count": 13,
     "metadata": {},
     "output_type": "execute_result"
    }
   ],
   "source": [
    "stmd.tsa.stattools.ccf(marketing, revenue, adjusted = False)"
   ]
  },
  {
   "cell_type": "markdown",
   "id": "2c830997",
   "metadata": {},
   "source": [
    "#### Time-series visualization"
   ]
  },
  {
   "cell_type": "markdown",
   "id": "58cb9f0f",
   "metadata": {},
   "source": [
    "Original time-series"
   ]
  },
  {
   "cell_type": "code",
   "execution_count": null,
   "id": "be06086f",
   "metadata": {},
   "outputs": [],
   "source": [
    "df.plot(kind = \"line\")"
   ]
  },
  {
   "cell_type": "markdown",
   "id": "58ef7d3b",
   "metadata": {},
   "source": [
    "Decomposed time-series"
   ]
  },
  {
   "cell_type": "code",
   "execution_count": null,
   "id": "1d6f30fa",
   "metadata": {},
   "outputs": [],
   "source": [
    "df_add_decompose.plot(); plt.show()\n",
    "df_multi_decompose.plot(); plt.show()"
   ]
  },
  {
   "cell_type": "markdown",
   "id": "1f2f98d9",
   "metadata": {},
   "source": [
    "Testing the commit function."
   ]
  }
 ],
 "metadata": {
  "kernelspec": {
   "display_name": "Python 3 (ipykernel)",
   "language": "python",
   "name": "python3"
  },
  "language_info": {
   "codemirror_mode": {
    "name": "ipython",
    "version": 3
   },
   "file_extension": ".py",
   "mimetype": "text/x-python",
   "name": "python",
   "nbconvert_exporter": "python",
   "pygments_lexer": "ipython3",
   "version": "3.9.13"
  }
 },
 "nbformat": 4,
 "nbformat_minor": 5
}
